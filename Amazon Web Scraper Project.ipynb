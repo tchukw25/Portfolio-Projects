{
 "cells": [
  {
   "cell_type": "code",
   "execution_count": 1,
   "id": "386476ad",
   "metadata": {},
   "outputs": [],
   "source": [
    "# Importing Libraries\n",
    "import pandas as pd\n",
    "\n",
    "from bs4 import BeautifulSoup\n",
    "import requests\n",
    "import time\n",
    "import datetime\n",
    "\n",
    "import smtplib\n",
    "\n",
    "import csv"
   ]
  },
  {
   "cell_type": "code",
   "execution_count": 2,
   "id": "0b052bdc",
   "metadata": {},
   "outputs": [
    {
     "name": "stdout",
     "output_type": "stream",
     "text": [
      "Nintendo Switch – OLED Model w/ Neon Red & Neon Blue Joy-Con\n",
      "$349.99\n",
      "$328.96\n",
      "-6%\n",
      "$19.88 delivery\n",
      "May 8 - 9\n"
     ]
    }
   ],
   "source": [
    "# Connecting to website and pulling in data\n",
    "\n",
    "URL = 'https://www.amazon.com/Nintendo-Switch-OLED-Model-Neon-Joy/dp/B098RL6SBJ/ref=sr_1_3?crid=3IX1I8NJJFVDK&keywords=nintendo%2Bswitch&qid=1683130171&sprefix=nintendo%2Bswitch%2Caps%2C157&sr=8-3&ufe=app_do%3Aamzn1.fos.c3015c4a-46bb-44b9-81a4-dc28e6d374b3&th=1'\n",
    "headers = {\"User-Agent\" : \"Mozilla/5.0 (Windows NT 10.0; Win64; x64) AppleWebKit/537.36 (KHTML, like Gecko) Chrome/112.0.0.0 Safari/537.36\"}\n",
    "\n",
    "page = requests.get(URL, headers = headers, cookies = {'__hs_opt_out': 'no'})\n",
    "\n",
    "soup1 = BeautifulSoup(page.content, \"html.parser\")\n",
    "\n",
    "soup2 = BeautifulSoup(soup1.prettify(), 'html.parser')\n",
    "\n",
    "title = soup2.find(id= 'productTitle').text.strip()\n",
    "\n",
    "current_price = soup2.find('span', {'class': \"a-offscreen\"}).text.strip()\n",
    "\n",
    "discount_of_list_price = soup2.find('span', {'class': \"a-size-large a-color-price savingPriceOverride aok-align-center reinventPriceSavingsPercentageMargin savingsPercentage\"}).text.strip()\n",
    "\n",
    "delivery_price = soup2.find(id= \"mir-layout-DELIVERY_BLOCK-slot-PRIMARY_DELIVERY_MESSAGE_LARGE\").text.strip()[:15]\n",
    "\n",
    "estimated_delivery = soup2.find('span', {'class': 'a-text-bold'}).text.strip()\n",
    "\n",
    "list_price = soup2.find('span', {'class': 'a-price a-text-price'}).text.strip()[:7]\n",
    "\n",
    "print(title)\n",
    "print(list_price)\n",
    "print(current_price)\n",
    "print(discount_of_list_price)\n",
    "print(delivery_price)\n",
    "print(estimated_delivery)"
   ]
  },
  {
   "cell_type": "code",
   "execution_count": 3,
   "id": "dc7967a8",
   "metadata": {},
   "outputs": [],
   "source": [
    "#Making a timestamp for when data is collected\n",
    "today = datetime.date.today()\n",
    "\n",
    "#Creating CSV and writing the headers and data into the file\n",
    "\n",
    "csv_header = ['Product_Title', 'Listed_Price', 'Current_Price', 'Discount_from_List_Price', 'Delivery_Price', 'Estimated_Delivery', 'Date']\n",
    "data = [title, list_price, current_price, discount_of_list_price, delivery_price, estimated_delivery, today]\n",
    "\n",
    "with open('Amazon_Scraped_Data.csv', 'w', newline='', encoding = 'UTF8') as f:\n",
    "    writer = csv.writer(f)\n",
    "    writer.writerow(csv_header)\n",
    "    writer.writerow(data)"
   ]
  },
  {
   "cell_type": "code",
   "execution_count": 4,
   "id": "a59d19fb",
   "metadata": {},
   "outputs": [
    {
     "name": "stdout",
     "output_type": "stream",
     "text": [
      "                                       Product_Title Listed_Price  \\\n",
      "0  Nintendo Switch – OLED Model w/ Neon Red & Neo...      $349.99   \n",
      "\n",
      "  Current_Price Discount_from_List_Price   Delivery_Price Estimated_Delivery  \\\n",
      "0       $328.96                      -6%  $19.88 delivery          May 8 - 9   \n",
      "\n",
      "         Date  \n",
      "0  2023-05-03  \n"
     ]
    }
   ],
   "source": [
    "df = pd.read_csv('Amazon_Scraped_Data.csv')\n",
    "\n",
    "print(df)"
   ]
  },
  {
   "cell_type": "code",
   "execution_count": 5,
   "id": "88165f93",
   "metadata": {},
   "outputs": [],
   "source": [
    "# Appending data to the csv\n",
    "with open('Amazon_Scraped_Data.csv', 'a+', newline='', encoding = 'UTF8') as f:\n",
    "    writer = csv.writer(f)\n",
    "    writer.writerow(data)"
   ]
  },
  {
   "cell_type": "code",
   "execution_count": 6,
   "id": "23489958",
   "metadata": {},
   "outputs": [],
   "source": [
    "#Creating a function with the previous code\n",
    "\n",
    "def check_price():\n",
    "    URL = 'https://www.amazon.com/Nintendo-Switch-OLED-Model-Neon-Joy/dp/B098RL6SBJ/ref=sr_1_3?crid=3IX1I8NJJFVDK&keywords=nintendo%2Bswitch&qid=1683130171&sprefix=nintendo%2Bswitch%2Caps%2C157&sr=8-3&ufe=app_do%3Aamzn1.fos.c3015c4a-46bb-44b9-81a4-dc28e6d374b3&th=1'\n",
    "    headers = {\"User-Agent\" : \"Mozilla/5.0 (Windows NT 10.0; Win64; x64) AppleWebKit/537.36 (KHTML, like Gecko) Chrome/112.0.0.0 Safari/537.36\"}\n",
    "\n",
    "    page = requests.get(URL, headers = headers, cookies = {'__hs_opt_out': 'no'})\n",
    "\n",
    "    soup1 = BeautifulSoup(page.content, \"html.parser\")\n",
    "\n",
    "    soup2 = BeautifulSoup(soup1.prettify(), 'html.parser')\n",
    "\n",
    "    title = soup2.find(id= 'productTitle').text.strip()\n",
    "\n",
    "    current_price = soup2.find('span', {'class': \"a-offscreen\"}).text.strip()\n",
    "\n",
    "    discount_of_list_price = soup2.find('span', {'class': \"a-size-large a-color-price savingPriceOverride aok-align-center reinventPriceSavingsPercentageMargin savingsPercentage\"}).text.strip()\n",
    "\n",
    "    delivery_price = soup2.find(id= \"mir-layout-DELIVERY_BLOCK-slot-PRIMARY_DELIVERY_MESSAGE_LARGE\").text.strip()[:15]\n",
    "\n",
    "    estimated_delivery = soup2.find('span', {'class': 'a-text-bold'}).text.strip()\n",
    "    \n",
    "    list_price = soup2.find('span', {'class': 'a-price a-text-price'}).text.strip()[:7]\n",
    "    \n",
    "    today = datetime.date.today()\n",
    "    \n",
    "    csv_header = ['Product_Title', 'Listed_Price' 'Price', 'Discount_from_List_Price', 'Delivery_Price', 'Estimated_Delivery', 'Date']\n",
    "    data = [title, list_price, current_price, discount_of_list_price, delivery_price, estimated_delivery, today]\n",
    "\n",
    "    with open('Amazon_Scraped_Data.csv', 'a+', newline='', encoding = 'UTF8') as f:\n",
    "        writer = csv.writer(f)\n",
    "        writer.writerow(data)"
   ]
  },
  {
   "cell_type": "code",
   "execution_count": null,
   "id": "9ed3e533",
   "metadata": {},
   "outputs": [],
   "source": [
    "#Automating check price to run over time and input data into the created CSV\n",
    "while(True):\n",
    "    check_price()\n",
    "    time.sleep(86400)"
   ]
  },
  {
   "cell_type": "code",
   "execution_count": null,
   "id": "6a7e22a8",
   "metadata": {},
   "outputs": [],
   "source": [
    "print(df)"
   ]
  }
 ],
 "metadata": {
  "kernelspec": {
   "display_name": "Python 3 (ipykernel)",
   "language": "python",
   "name": "python3"
  },
  "language_info": {
   "codemirror_mode": {
    "name": "ipython",
    "version": 3
   },
   "file_extension": ".py",
   "mimetype": "text/x-python",
   "name": "python",
   "nbconvert_exporter": "python",
   "pygments_lexer": "ipython3",
   "version": "3.9.13"
  }
 },
 "nbformat": 4,
 "nbformat_minor": 5
}
